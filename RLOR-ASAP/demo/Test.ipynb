{
 "cells": [
  {
   "cell_type": "code",
   "execution_count": 1,
   "id": "98da212b",
   "metadata": {},
   "outputs": [
    {
     "name": "stdout",
     "output_type": "stream",
     "text": [
      "/raid/students/jeryl/RLOR/RLOR-ASAP\n"
     ]
    },
    {
     "data": {
      "text/plain": [
       "'/raid/students/jeryl/RLOR/RLOR-ASAP'"
      ]
     },
     "execution_count": 1,
     "metadata": {},
     "output_type": "execute_result"
    }
   ],
   "source": [
    "# !git clone https://github.com/cpwan/RLOR\n",
    "# %cd RLOR\n",
    "%cd ..\n",
    "%pwd"
   ]
  },
  {
   "cell_type": "code",
   "execution_count": 2,
   "id": "92098a0e",
   "metadata": {},
   "outputs": [],
   "source": [
    "import numpy as np\n",
    "import torch\n",
    "import gym\n",
    "import sys\n",
    "import os"
   ]
  },
  {
   "cell_type": "code",
   "execution_count": 3,
   "id": "ac099343",
   "metadata": {},
   "outputs": [],
   "source": [
    "project_root = '/data/students/jeryl/RLOR/RLOR-ASAP'\n",
    "sys.path.append(project_root)"
   ]
  },
  {
   "cell_type": "code",
   "execution_count": 4,
   "id": "2d268056",
   "metadata": {},
   "outputs": [
    {
     "name": "stdout",
     "output_type": "stream",
     "text": [
      "{'max_nodes': 2, 'n_traj': 64, 'customer_locs': array([[0.44134897, 1.        ],\n",
      "       [0.        , 0.66345716]], dtype=float32), 'customer_demands': array([ 8.75, 14.5 ], dtype=float32), 'customer_end_times': array([3600., 7200.], dtype=float32), 'depot_loc': array([1., 0.], dtype=float32), 'depot_end_time': 10000.0, 'capacity_limit': 40, 'mode': 'deploy'}\n"
     ]
    },
    {
     "name": "stderr",
     "output_type": "stream",
     "text": [
      "/data/students/jeryl/anaconda3/envs/pytorch251/lib/python3.11/site-packages/gym/utils/passive_env_checker.py:31: UserWarning: \u001b[33mWARN: A Box observation space has an unconventional shape (neither an image, nor a 1D vector). We recommend flattening the observation to have only a 1D vector or use a custom policy to properly process the data. Actual observation shape: (64, 3)\u001b[0m\n",
      "  logger.warn(\n",
      "/data/students/jeryl/anaconda3/envs/pytorch251/lib/python3.11/site-packages/gym/utils/passive_env_checker.py:31: UserWarning: \u001b[33mWARN: A Box observation space has an unconventional shape (neither an image, nor a 1D vector). We recommend flattening the observation to have only a 1D vector or use a custom policy to properly process the data. Actual observation shape: (2, 2)\u001b[0m\n",
      "  logger.warn(\n"
     ]
    }
   ],
   "source": [
    "from wrappers.syncVectorEnvPomo import SyncVectorEnv\n",
    "from wrappers.recordWrapper    import RecordEpisodeStatistics\n",
    "from models.attention_model_wrapper import Agent\n",
    "from Helper_Function import build_env_cfg_from_json\n",
    "\n",
    "json_path = \"/data/students/jeryl/RLOR/RLOR-ASAP/inference_from_json.json\"\n",
    "env_cfg = build_env_cfg_from_json(\n",
    "    json_path,\n",
    "    capacity_limit = 40,\n",
    "    num_traj       = 64,\n",
    "    mode           = \"deploy\"      \n",
    ")\n",
    "print(env_cfg)\n",
    "\n",
    "env_id = 'cvrp-v0'\n",
    "env_entry_point = 'envs.cvrp_vector_env:CVRPVectorEnv'\n",
    "seed = 0\n",
    "\n",
    "gym.envs.register(id=env_id,\n",
    "                  entry_point=\"envs.cvrp_vector_env:CVRPVectorEnv\")\n",
    "\n",
    "def make_env(eid, seed, cfg):\n",
    "    def thunk():\n",
    "        env = gym.make(eid, **cfg)\n",
    "        env = RecordEpisodeStatistics(env)   # ← add this\n",
    "        env.seed(seed)\n",
    "        env.action_space.seed(seed)\n",
    "        env.observation_space.seed(seed)\n",
    "        return env\n",
    "    return thunk\n",
    "\n",
    "\n",
    "envs = SyncVectorEnv([make_env(env_id, seed, env_cfg)])"
   ]
  },
  {
   "cell_type": "code",
   "execution_count": 5,
   "id": "1d59a9d3",
   "metadata": {},
   "outputs": [
    {
     "name": "stderr",
     "output_type": "stream",
     "text": [
      "/tmp/ipykernel_2455577/2556083810.py:4: FutureWarning: You are using `torch.load` with `weights_only=False` (the current default value), which uses the default pickle module implicitly. It is possible to construct malicious pickle data which will execute arbitrary code during unpickling (See https://github.com/pytorch/pytorch/blob/main/SECURITY.md#untrusted-models for more details). In a future release, the default value for `weights_only` will be flipped to `True`. This limits the functions that could be executed during unpickling. Arbitrary objects will no longer be allowed to be loaded via this mode unless they are explicitly allowlisted by the user via `torch.serialization.add_safe_globals`. We recommend you start setting `weights_only=True` for any use case where you don't have full control of the loaded file. Please open an issue on GitHub for any issues related to this experimental feature.\n",
      "  agent.load_state_dict(torch.load(ckpt_path))\n"
     ]
    },
    {
     "data": {
      "text/plain": [
       "Agent(\n",
       "  (backbone): Backbone(\n",
       "    (embedding): VRPEmbedding(\n",
       "      (init_embed): Linear(in_features=3, out_features=128, bias=True)\n",
       "      (init_embed_depot): Linear(in_features=2, out_features=128, bias=True)\n",
       "    )\n",
       "    (encoder): GraphAttentionEncoder(\n",
       "      (layers): Sequential(\n",
       "        (0): MultiHeadAttentionLayer(\n",
       "          (0): SkipConnection(\n",
       "            (module): MultiHeadAttentionProj(\n",
       "              (queryEncoder): Linear(in_features=128, out_features=128, bias=False)\n",
       "              (keyEncoder): Linear(in_features=128, out_features=128, bias=False)\n",
       "              (valueEncoder): Linear(in_features=128, out_features=128, bias=False)\n",
       "              (MHA): MultiHeadAttention(\n",
       "                (attentionScore): AttentionScore()\n",
       "                (project_out): Linear(in_features=128, out_features=128, bias=False)\n",
       "              )\n",
       "            )\n",
       "          )\n",
       "          (1): Normalization(\n",
       "            (normalizer): BatchNorm1d(128, eps=1e-05, momentum=0.1, affine=True, track_running_stats=True)\n",
       "          )\n",
       "          (2): SkipConnection(\n",
       "            (module): Sequential(\n",
       "              (0): Linear(in_features=128, out_features=512, bias=True)\n",
       "              (1): ReLU()\n",
       "              (2): Linear(in_features=512, out_features=128, bias=True)\n",
       "            )\n",
       "          )\n",
       "          (3): Normalization(\n",
       "            (normalizer): BatchNorm1d(128, eps=1e-05, momentum=0.1, affine=True, track_running_stats=True)\n",
       "          )\n",
       "        )\n",
       "        (1): MultiHeadAttentionLayer(\n",
       "          (0): SkipConnection(\n",
       "            (module): MultiHeadAttentionProj(\n",
       "              (queryEncoder): Linear(in_features=128, out_features=128, bias=False)\n",
       "              (keyEncoder): Linear(in_features=128, out_features=128, bias=False)\n",
       "              (valueEncoder): Linear(in_features=128, out_features=128, bias=False)\n",
       "              (MHA): MultiHeadAttention(\n",
       "                (attentionScore): AttentionScore()\n",
       "                (project_out): Linear(in_features=128, out_features=128, bias=False)\n",
       "              )\n",
       "            )\n",
       "          )\n",
       "          (1): Normalization(\n",
       "            (normalizer): BatchNorm1d(128, eps=1e-05, momentum=0.1, affine=True, track_running_stats=True)\n",
       "          )\n",
       "          (2): SkipConnection(\n",
       "            (module): Sequential(\n",
       "              (0): Linear(in_features=128, out_features=512, bias=True)\n",
       "              (1): ReLU()\n",
       "              (2): Linear(in_features=512, out_features=128, bias=True)\n",
       "            )\n",
       "          )\n",
       "          (3): Normalization(\n",
       "            (normalizer): BatchNorm1d(128, eps=1e-05, momentum=0.1, affine=True, track_running_stats=True)\n",
       "          )\n",
       "        )\n",
       "        (2): MultiHeadAttentionLayer(\n",
       "          (0): SkipConnection(\n",
       "            (module): MultiHeadAttentionProj(\n",
       "              (queryEncoder): Linear(in_features=128, out_features=128, bias=False)\n",
       "              (keyEncoder): Linear(in_features=128, out_features=128, bias=False)\n",
       "              (valueEncoder): Linear(in_features=128, out_features=128, bias=False)\n",
       "              (MHA): MultiHeadAttention(\n",
       "                (attentionScore): AttentionScore()\n",
       "                (project_out): Linear(in_features=128, out_features=128, bias=False)\n",
       "              )\n",
       "            )\n",
       "          )\n",
       "          (1): Normalization(\n",
       "            (normalizer): BatchNorm1d(128, eps=1e-05, momentum=0.1, affine=True, track_running_stats=True)\n",
       "          )\n",
       "          (2): SkipConnection(\n",
       "            (module): Sequential(\n",
       "              (0): Linear(in_features=128, out_features=512, bias=True)\n",
       "              (1): ReLU()\n",
       "              (2): Linear(in_features=512, out_features=128, bias=True)\n",
       "            )\n",
       "          )\n",
       "          (3): Normalization(\n",
       "            (normalizer): BatchNorm1d(128, eps=1e-05, momentum=0.1, affine=True, track_running_stats=True)\n",
       "          )\n",
       "        )\n",
       "      )\n",
       "    )\n",
       "    (decoder): Decoder(\n",
       "      (project_node_embeddings): Linear(in_features=128, out_features=384, bias=False)\n",
       "      (project_fixed_context): Linear(in_features=128, out_features=128, bias=False)\n",
       "      (project_step_context): Linear(in_features=129, out_features=128, bias=False)\n",
       "      (context): VRPContext()\n",
       "      (dynamic_embedding): NonDyanmicEmbedding()\n",
       "      (glimpse): MultiHeadAttention(\n",
       "        (attentionScore): AttentionScore()\n",
       "        (project_out): Linear(in_features=128, out_features=128, bias=False)\n",
       "      )\n",
       "      (pointer): AttentionScore()\n",
       "    )\n",
       "  )\n",
       "  (critic): Critic(\n",
       "    (mlp): Sequential(\n",
       "      (0): Linear(in_features=128, out_features=128, bias=True)\n",
       "      (1): ReLU()\n",
       "      (2): Linear(in_features=128, out_features=1, bias=True)\n",
       "    )\n",
       "  )\n",
       "  (actor): Actor()\n",
       ")"
      ]
     },
     "execution_count": 5,
     "metadata": {},
     "output_type": "execute_result"
    }
   ],
   "source": [
    "device = 'cuda'\n",
    "ckpt_path = '/data/students/jeryl/RLOR/RLOR-ASAP/runs/cvrp-v0__ppo_or__42__1744547570/ckpt/2441.pt'\n",
    "agent = Agent(device=device, name='cvrp').to(device)\n",
    "agent.load_state_dict(torch.load(ckpt_path))\n",
    "agent.eval()"
   ]
  },
  {
   "cell_type": "code",
   "execution_count": 6,
   "id": "2d0c56ba",
   "metadata": {},
   "outputs": [
    {
     "name": "stderr",
     "output_type": "stream",
     "text": [
      "/data/students/jeryl/anaconda3/envs/pytorch251/lib/python3.11/site-packages/gym/utils/passive_env_checker.py:174: UserWarning: \u001b[33mWARN: Future gym versions will require that `Env.reset` can be passed a `seed` instead of using `Env.seed` for resetting the environment random number generator.\u001b[0m\n",
      "  logger.warn(\n",
      "/data/students/jeryl/anaconda3/envs/pytorch251/lib/python3.11/site-packages/gym/utils/passive_env_checker.py:187: UserWarning: \u001b[33mWARN: Future gym versions will require that `Env.reset` can be passed `options` to allow the environment initialisation to be passed additional information.\u001b[0m\n",
      "  logger.warn(\n",
      "/data/students/jeryl/anaconda3/envs/pytorch251/lib/python3.11/site-packages/gym/utils/passive_env_checker.py:195: UserWarning: \u001b[33mWARN: The result returned by `env.reset()` was not a tuple of the form `(obs, info)`, where `obs` is a observation and `info` is a dictionary containing additional information. Actual type: `<class 'dict'>`\u001b[0m\n",
      "  logger.warn(\n"
     ]
    },
    {
     "name": "stdout",
     "output_type": "stream",
     "text": [
      "ACTION\n",
      "[1 1 1 1 1 1 1 1 1 1 1 1 1 1 1 1 1 1 1 1 1 1 1 1 1 1 1 1 1 1 1 1 1 1 1 1 1\n",
      " 1 1 1 1 1 1 1 1 1 1 1 1 1 1 1 1 1 1 1 1 1 1 1 1 1 1 1]\n",
      "ACTION\n",
      "[2 2 2 2 2 2 2 2 2 2 2 2 2 2 2 2 2 2 2 2 2 2 2 2 2 2 2 2 2 2 2 2 2 2 2 2 2\n",
      " 2 2 2 2 2 2 2 2 2 2 2 2 2 2 2 2 2 2 2 2 2 2 2 2 2 2 2]\n",
      "ACTION\n",
      "[0 0 0 0 0 0 0 0 0 0 0 0 0 0 0 0 0 0 0 0 0 0 0 0 0 0 0 0 0 0 0 0 0 0 0 0 0\n",
      " 0 0 0 0 0 0 0 0 0 0 0 0 0 0 0 0 0 0 0 0 0 0 0 0 0 0 0]\n"
     ]
    },
    {
     "name": "stderr",
     "output_type": "stream",
     "text": [
      "/data/students/jeryl/anaconda3/envs/pytorch251/lib/python3.11/site-packages/gym/utils/passive_env_checker.py:219: DeprecationWarning: \u001b[33mWARN: Core environment is written in old step API which returns one bool instead of two. It is recommended to rewrite the environment with new step API. \u001b[0m\n",
      "  logger.deprecation(\n",
      "/data/students/jeryl/anaconda3/envs/pytorch251/lib/python3.11/site-packages/gym/utils/passive_env_checker.py:225: DeprecationWarning: `np.bool8` is a deprecated alias for `np.bool_`.  (Deprecated NumPy 1.24)\n",
      "  if not isinstance(done, (bool, np.bool8)):\n",
      "/data/students/jeryl/anaconda3/envs/pytorch251/lib/python3.11/site-packages/gym/utils/passive_env_checker.py:226: UserWarning: \u001b[33mWARN: Expects `done` signal to be a boolean, actual type: <class 'numpy.ndarray'>\u001b[0m\n",
      "  logger.warn(\n",
      "/data/students/jeryl/anaconda3/envs/pytorch251/lib/python3.11/site-packages/gym/utils/passive_env_checker.py:141: UserWarning: \u001b[33mWARN: The obs returned by the `step()` method was expecting numpy array dtype to be float32, actual type: float64\u001b[0m\n",
      "  logger.warn(\n",
      "/data/students/jeryl/anaconda3/envs/pytorch251/lib/python3.11/site-packages/gym/utils/passive_env_checker.py:165: UserWarning: \u001b[33mWARN: The obs returned by the `step()` method is not within the observation space.\u001b[0m\n",
      "  logger.warn(f\"{pre} is not within the observation space.\")\n",
      "/data/students/jeryl/anaconda3/envs/pytorch251/lib/python3.11/site-packages/gym/utils/passive_env_checker.py:141: UserWarning: \u001b[33mWARN: The obs returned by the `step()` method was expecting numpy array dtype to be int32, actual type: int64\u001b[0m\n",
      "  logger.warn(\n",
      "/data/students/jeryl/anaconda3/envs/pytorch251/lib/python3.11/site-packages/gym/utils/passive_env_checker.py:252: UserWarning: \u001b[33mWARN: The reward returned by `step()` must be a float, int, np.integer or np.floating, actual type: <class 'numpy.ndarray'>\u001b[0m\n",
      "  logger.warn(\n"
     ]
    }
   ],
   "source": [
    "trajectories = []\n",
    "agent.eval()\n",
    "obs = envs.reset()\n",
    "init_demand = obs['demand'].copy()\n",
    "init_end_time = obs['end_time'][0][0].copy()\n",
    "init_end_time = init_end_time[1:].reshape(1, -1)\n",
    "cap_limit = 1.00\n",
    "done = np.array([False])\n",
    "while not done.all():\n",
    "    with torch.no_grad():\n",
    "        action, _ = agent(obs)      # uses network logits\n",
    "    obs, reward, done, info = envs.step(action.cpu().numpy())\n",
    "    trajectories.append(action.cpu().numpy())\n"
   ]
  },
  {
   "cell_type": "code",
   "execution_count": 7,
   "id": "86321ee4",
   "metadata": {},
   "outputs": [
    {
     "name": "stdout",
     "output_type": "stream",
     "text": [
      "Trajectories:  [array([[1, 1, 1, 1, 1, 1, 1, 1, 1, 1, 1, 1, 1, 1, 1, 1, 1, 1, 1, 1, 1, 1,\n",
      "        1, 1, 1, 1, 1, 1, 1, 1, 1, 1, 1, 1, 1, 1, 1, 1, 1, 1, 1, 1, 1, 1,\n",
      "        1, 1, 1, 1, 1, 1, 1, 1, 1, 1, 1, 1, 1, 1, 1, 1, 1, 1, 1, 1]]), array([[2, 2, 2, 2, 2, 2, 2, 2, 2, 2, 2, 2, 2, 2, 2, 2, 2, 2, 2, 2, 2, 2,\n",
      "        2, 2, 2, 2, 2, 2, 2, 2, 2, 2, 2, 2, 2, 2, 2, 2, 2, 2, 2, 2, 2, 2,\n",
      "        2, 2, 2, 2, 2, 2, 2, 2, 2, 2, 2, 2, 2, 2, 2, 2, 2, 2, 2, 2]]), array([[0, 0, 0, 0, 0, 0, 0, 0, 0, 0, 0, 0, 0, 0, 0, 0, 0, 0, 0, 0, 0, 0,\n",
      "        0, 0, 0, 0, 0, 0, 0, 0, 0, 0, 0, 0, 0, 0, 0, 0, 0, 0, 0, 0, 0, 0,\n",
      "        0, 0, 0, 0, 0, 0, 0, 0, 0, 0, 0, 0, 0, 0, 0, 0, 0, 0, 0, 0]])]\n"
     ]
    }
   ],
   "source": [
    "print(\"Trajectories: \", trajectories)"
   ]
  },
  {
   "cell_type": "code",
   "execution_count": 8,
   "id": "f8625114",
   "metadata": {},
   "outputs": [],
   "source": [
    "nodes_coordinates = np.vstack([obs['depot'],obs['observations'][0]])\n",
    "final_return = info[0]['episode']['r']\n",
    "best_traj = np.argmax(final_return)\n",
    "resulting_traj = np.array(trajectories)[:,0,best_traj]\n",
    "resulting_traj_with_depot = np.hstack([np.zeros(1,dtype = int),resulting_traj])"
   ]
  },
  {
   "cell_type": "code",
   "execution_count": 9,
   "id": "69c1e11e",
   "metadata": {},
   "outputs": [
    {
     "name": "stdout",
     "output_type": "stream",
     "text": [
      "A route of length -27.080049514770508\n",
      "The route is:\n",
      " [0 1 2 0]\n"
     ]
    }
   ],
   "source": [
    "print(f'A route of length {final_return[best_traj]}')\n",
    "print('The route is:\\n', resulting_traj_with_depot)"
   ]
  },
  {
   "cell_type": "code",
   "execution_count": 10,
   "id": "88d9a3c6",
   "metadata": {},
   "outputs": [],
   "source": [
    "def compute_total_distance(coords, route):\n",
    "    return sum(np.linalg.norm(coords[route[i]] - coords[route[i+1]]) for i in range(len(route)-1))\n",
    "\n",
    "def compute_violations(demand, end_times, route, coords, capacity_limit=1.0):\n",
    "    total_demand = 0\n",
    "    capacity_violations = 0\n",
    "    time_violations = 0\n",
    "    current_time = 0\n",
    "\n",
    "    for i in range(1, len(route)):\n",
    "        prev_node = route[i - 1]\n",
    "        curr_node = route[i]\n",
    "\n",
    "        # Distance = travel time (assuming 1 unit = 1 time unit)\n",
    "        travel_time = np.linalg.norm(coords[prev_node] - coords[curr_node])\n",
    "        current_time += travel_time\n",
    "\n",
    "        if curr_node == 0:\n",
    "            total_demand = 0\n",
    "            current_time = 0  # reset time at depot\n",
    "            continue\n",
    "\n",
    "        cust_idx = curr_node - 1  # customer index (since depot is 0)\n",
    "        total_demand += demand[cust_idx]\n",
    "\n",
    "        if total_demand > capacity_limit + 1e-6:\n",
    "            capacity_violations += 1\n",
    "\n",
    "        if current_time > end_times[cust_idx]:\n",
    "            time_violations += 1\n",
    "\n",
    "    return capacity_violations, time_violations\n",
    "\n",
    "\n",
    "\n",
    "def plot_multi_truck_route(coords, demand, end_times, route_with_depot, depot_idx=0):\n",
    "    import matplotlib.pyplot as plt\n",
    "    import numpy as np\n",
    "    from matplotlib.colors import to_rgba\n",
    "    from matplotlib.cm import get_cmap\n",
    "\n",
    "    fig, ax = plt.subplots(figsize=(10, 10))\n",
    "\n",
    "    # Split the route into segments between depots\n",
    "    segments = []\n",
    "    current_segment = []\n",
    "\n",
    "    for node in route_with_depot:\n",
    "        current_segment.append(node)\n",
    "        if node == depot_idx and len(current_segment) > 1:\n",
    "            segments.append(current_segment)\n",
    "            current_segment = [depot_idx]\n",
    "\n",
    "\n",
    "    # Choose a red-to-orange colormap\n",
    "    cmap = get_cmap('autumn')  # Try 'OrRd' too for more depth\n",
    "\n",
    "    n_routes = len(segments)\n",
    "    if n_routes == 0:          # never left the depot\n",
    "        print(\"No route segments to plot.\"); return\n",
    "    elif n_routes == 1:        # just one truck / segment\n",
    "        route_colors = ['orange']            # pick any single colour\n",
    "    else:\n",
    "        cmap = get_cmap('autumn')\n",
    "        route_colors = [cmap(i / (n_routes - 1)) for i in range(n_routes)]\n",
    "\n",
    "    # Plot each segment cleanly\n",
    "    for i, (segment, color) in enumerate(zip(segments, route_colors)):\n",
    "        xy = coords[segment]\n",
    "        x, y = xy[:, 0], xy[:, 1]\n",
    "        ax.plot(x, y, '-o', color=color, label=f'Truck {i+1}', linewidth=2, markersize=4)\n",
    "\n",
    "    # Plot depot as a large star\n",
    "    depot_coord = coords[depot_idx]\n",
    "    ax.plot(depot_coord[0], depot_coord[1], marker='*', color='black', markersize=20, label='Depot')\n",
    "\n",
    "    # Flatten and insert depot values (0) for demand and end_times\n",
    "    demand = demand.flatten()\n",
    "    end_times = end_times.flatten()\n",
    "    full_demand = np.insert(demand, 0, 0)\n",
    "    full_end_times = np.insert(end_times, 0, 0)\n",
    "\n",
    "    # Get node positions\n",
    "    x_d, y_d = coords.T\n",
    "\n",
    "    # Demand bars (grey)\n",
    "    demand_height = full_demand / 4\n",
    "    demand_bar = np.vstack([demand_height * 0, demand_height])\n",
    "    ax.errorbar(x_d, y_d, demand_bar, fmt='None', elinewidth=2, color='grey', alpha=0.6, label='Demand (d)')\n",
    "\n",
    "    # End time bars (black, slightly shifted right)\n",
    "    endtime_height = full_end_times / full_end_times.max() / 4\n",
    "    endtime_bar = np.vstack([endtime_height * 0, endtime_height])\n",
    "    ax.errorbar(x_d + 0.005, y_d, endtime_bar, fmt='None', elinewidth=2, color='black', alpha=0.6, label='End Time (tw)')\n",
    "\n",
    "    # Annotated text with light grey background\n",
    "    for i, (x_pos, y_pos, d, t) in enumerate(zip(x_d, y_d, full_demand, full_end_times)):\n",
    "        if i == depot_idx:\n",
    "            continue\n",
    "        label = f'd={d:.2f}\\ntw={int(t)}'\n",
    "        ax.text(\n",
    "            x_pos + 0.01, y_pos + 0.01, label,\n",
    "            fontsize=8,\n",
    "            color='black',\n",
    "            ha='left',\n",
    "            va='bottom',\n",
    "            bbox=dict(facecolor='lightgrey', edgecolor='none', boxstyle='round,pad=0.3', alpha=0.6)\n",
    "        )\n",
    "\n",
    "    # Compute stats\n",
    "    total_distance = compute_total_distance(coords, route_with_depot)\n",
    "    cap_viol, time_viol = compute_violations(\n",
    "        demand=init_demand.flatten(),\n",
    "        end_times=init_end_time.flatten(),\n",
    "        route=resulting_traj_with_depot,\n",
    "        coords=nodes_coordinates,\n",
    "        capacity_limit=cap_limit\n",
    "    )\n",
    "\n",
    "    # Display stats as text box in the plot\n",
    "    stats_text = f\"Total Distance: {total_distance:.2f}\\nCapacity Violations: {cap_viol}\\nTime Violations: {time_viol}\"\n",
    "    ax.text(\n",
    "        0.03, 0.97, stats_text,\n",
    "        transform=ax.transAxes,\n",
    "        fontsize=10,\n",
    "        verticalalignment='top',\n",
    "        bbox=dict(facecolor='white', edgecolor='black', boxstyle='round,pad=0.5', alpha=0.8)\n",
    "    )\n",
    "\n",
    "    ax.set_xlim(0, 1)\n",
    "    ax.set_ylim(0, 1)\n",
    "    ax.axis('square')\n",
    "    ax.set_title('Opt. Solution for a Capacitated Vehicle Routing Problem with Time Windows (CVRP-TW) using RLOR-ASAP')\n",
    "    ax.legend(loc='upper right')\n",
    "    ax.grid(True)\n",
    "    plt.show()\n"
   ]
  },
  {
   "cell_type": "code",
   "execution_count": 11,
   "id": "c795d93a",
   "metadata": {},
   "outputs": [
    {
     "name": "stdout",
     "output_type": "stream",
     "text": [
      "[[1.         0.        ]\n",
      " [0.44134897 1.        ]\n",
      " [0.         0.66345716]]\n",
      "[[0.21875 0.3625 ]]\n",
      "[[3600. 7200.]]\n",
      "[0 1 2 0]\n"
     ]
    },
    {
     "name": "stderr",
     "output_type": "stream",
     "text": [
      "/tmp/ipykernel_2455577/1325849577.py:56: MatplotlibDeprecationWarning: The get_cmap function was deprecated in Matplotlib 3.7 and will be removed in 3.11. Use ``matplotlib.colormaps[name]`` or ``matplotlib.colormaps.get_cmap()`` or ``pyplot.get_cmap()`` instead.\n",
      "  cmap = get_cmap('autumn')  # Try 'OrRd' too for more depth\n"
     ]
    },
    {
     "data": {
      "image/png": "[encoded data removed]",
      "text/plain": [
       "<Figure size 1000x1000 with 1 Axes>"
      ]
     },
     "metadata": {},
     "output_type": "display_data"
    }
   ],
   "source": [
    "print(nodes_coordinates)\n",
    "print(init_demand)\n",
    "print(init_end_time)\n",
    "print(resulting_traj_with_depot)\n",
    "\n",
    "plot_multi_truck_route(\n",
    "    coords=nodes_coordinates,\n",
    "    demand=init_demand,          # shape: (1, 50)\n",
    "    end_times=init_end_time,    \n",
    "    route_with_depot=resulting_traj_with_depot\n",
    ")\n"
   ]
  }
 ],
 "metadata": {
  "kernelspec": {
   "display_name": "pytorch251",
   "language": "python",
   "name": "python3"
  },
  "language_info": {
   "codemirror_mode": {
    "name": "ipython",
    "version": 3
   },
   "file_extension": ".py",
   "mimetype": "text/x-python",
   "name": "python",
   "nbconvert_exporter": "python",
   "pygments_lexer": "ipython3",
   "version": "3.11.11"
  }
 },
 "nbformat": 4,
 "nbformat_minor": 5
}
